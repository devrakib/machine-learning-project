{
 "cells": [
  {
   "cell_type": "code",
   "execution_count": 1,
   "metadata": {},
   "outputs": [],
   "source": [
    "import pandas as pd"
   ]
  },
  {
   "cell_type": "code",
   "execution_count": 2,
   "metadata": {},
   "outputs": [],
   "source": [
    "bankdata = pd.read_csv(\"bill_authentication.csv.csv\")"
   ]
  },
  {
   "cell_type": "code",
   "execution_count": 3,
   "metadata": {},
   "outputs": [
    {
     "name": "stdout",
     "output_type": "stream",
     "text": [
      "(1372, 5)\n"
     ]
    }
   ],
   "source": [
    "print(bankdata.shape)"
   ]
  },
  {
   "cell_type": "code",
   "execution_count": 8,
   "metadata": {},
   "outputs": [
    {
     "name": "stdout",
     "output_type": "stream",
     "text": [
      "<bound method DataFrame.head of       Variance  Skewness   Curtosis   Entropy  Class\n",
      "0     3.621600   8.66610  -2.807300 -0.446990      0\n",
      "1     4.545900   8.16740  -2.458600 -1.462100      0\n",
      "2     3.866000  -2.63830   1.924200  0.106450      0\n",
      "3     3.456600   9.52280  -4.011200 -3.594400      0\n",
      "4     0.329240  -4.45520   4.571800 -0.988800      0\n",
      "5     4.368400   9.67180  -3.960600 -3.162500      0\n",
      "6     3.591200   3.01290   0.728880  0.564210      0\n",
      "7     2.092200  -6.81000   8.463600 -0.602160      0\n",
      "8     3.203200   5.75880  -0.753450 -0.612510      0\n",
      "9     1.535600   9.17720  -2.271800 -0.735350      0\n",
      "10    1.224700   8.77790  -2.213500 -0.806470      0\n",
      "11    3.989900  -2.70660   2.394600  0.862910      0\n",
      "12    1.899300   7.66250   0.153940 -3.110800      0\n",
      "13   -1.576800  10.84300   2.546200 -2.936200      0\n",
      "14    3.404000   8.72610  -2.991500 -0.572420      0\n",
      "15    4.676500  -3.38950   3.489600  1.477100      0\n",
      "16    2.671900   3.06460   0.371580  0.586190      0\n",
      "17    0.803550   2.84730   4.343900  0.601700      0\n",
      "18    1.447900  -4.87940   8.342800 -2.108600      0\n",
      "19    5.242300  11.02720  -4.353000 -4.101300      0\n",
      "20    5.786700   7.89020  -2.619600 -0.487080      0\n",
      "21    0.329200  -4.45520   4.571800 -0.988800      0\n",
      "22    3.936200  10.16220  -3.823500 -4.017200      0\n",
      "23    0.935840   8.88550  -1.683100 -1.659900      0\n",
      "24    4.433800   9.88700  -4.679500 -3.748300      0\n",
      "25    0.705700  -5.49810   8.336800 -2.871500      0\n",
      "26    1.143200  -3.74130   5.577700 -0.635780      0\n",
      "27   -0.382140   8.39090   2.162400 -3.740500      0\n",
      "28    6.563300   9.81870  -4.411300 -3.225800      0\n",
      "29    4.890600  -3.35840   3.420200  1.090500      0\n",
      "...        ...       ...        ...       ...    ...\n",
      "1342 -1.747900  -5.82300   5.869900  1.212000      1\n",
      "1343 -0.959230  -6.71280   4.985700  0.328860      1\n",
      "1344  1.345100   0.23589  -1.878500  1.325800      1\n",
      "1345  2.227900   4.09510  -4.803700 -2.111200      1\n",
      "1346  1.257200   4.87310  -5.286100 -5.874100      1\n",
      "1347 -5.385700   9.12140  -0.419290 -5.918100      1\n",
      "1348 -2.978600   2.34450   0.526670 -0.401730      1\n",
      "1349 -1.585100  -2.15620   1.708200  0.901700      1\n",
      "1350 -0.218880  -2.20380  -0.095400  0.564210      1\n",
      "1351  1.318300   1.90170  -3.311100  0.065071      1\n",
      "1352  1.489600   3.42880  -4.030900 -1.425900      1\n",
      "1353  0.115920   3.22190  -3.430200 -2.845700      1\n",
      "1354 -3.392400   3.35640  -0.720040 -3.523300      1\n",
      "1355 -6.163200   8.70960  -0.216210 -3.634500      1\n",
      "1356 -4.078600   2.92390   0.870260 -0.653890      1\n",
      "1357 -2.589900  -0.39110   0.934520  0.429720      1\n",
      "1358 -1.011600  -0.19038  -0.905970  0.003003      1\n",
      "1359  0.066129   2.49140  -2.940100 -0.621560      1\n",
      "1360 -0.247450   1.93680  -2.469700 -0.805180      1\n",
      "1361 -1.573200   1.06360  -0.712320 -0.838800      1\n",
      "1362 -2.166800   1.59330   0.045122 -1.678000      1\n",
      "1363 -1.166700  -1.42370   2.924100  0.661190      1\n",
      "1364 -2.839100  -6.63000  10.484900 -0.421130      1\n",
      "1365 -4.504600  -5.81260  10.886700 -0.528460      1\n",
      "1366 -2.410000   3.74330  -0.402150 -1.295300      1\n",
      "1367  0.406140   1.34920  -1.450100 -0.559490      1\n",
      "1368 -1.388700  -4.87730   6.477400  0.341790      1\n",
      "1369 -3.750300 -13.45860  17.593200 -2.777100      1\n",
      "1370 -3.563700  -8.38270  12.393000 -1.282300      1\n",
      "1371 -2.541900  -0.65804   2.684200  1.195200      1\n",
      "\n",
      "[1372 rows x 5 columns]>\n"
     ]
    }
   ],
   "source": [
    "print(bankdata.head)"
   ]
  },
  {
   "cell_type": "code",
   "execution_count": 5,
   "metadata": {},
   "outputs": [],
   "source": [
    "X = bankdata.drop('Class', axis=1)"
   ]
  },
  {
   "cell_type": "code",
   "execution_count": 7,
   "metadata": {},
   "outputs": [],
   "source": [
    "y = bankdata['Class']"
   ]
  },
  {
   "cell_type": "code",
   "execution_count": 9,
   "metadata": {},
   "outputs": [],
   "source": [
    "from sklearn.model_selection import train_test_split"
   ]
  },
  {
   "cell_type": "code",
   "execution_count": 10,
   "metadata": {},
   "outputs": [],
   "source": [
    "X_train, X_test, Y_train, Y_test = train_test_split(X,y,test_size=.20)"
   ]
  },
  {
   "cell_type": "code",
   "execution_count": 11,
   "metadata": {},
   "outputs": [],
   "source": [
    "from sklearn.naive_bayes import GaussianNB"
   ]
  },
  {
   "cell_type": "code",
   "execution_count": 19,
   "metadata": {},
   "outputs": [],
   "source": [
    "clf = GaussianNB()"
   ]
  },
  {
   "cell_type": "code",
   "execution_count": 21,
   "metadata": {},
   "outputs": [
    {
     "data": {
      "text/plain": [
       "GaussianNB(priors=None)"
      ]
     },
     "execution_count": 21,
     "metadata": {},
     "output_type": "execute_result"
    }
   ],
   "source": [
    "clf.fit(X_train,Y_train)"
   ]
  },
  {
   "cell_type": "code",
   "execution_count": 22,
   "metadata": {},
   "outputs": [],
   "source": [
    "y_pred = clf.predict(X_test)"
   ]
  },
  {
   "cell_type": "code",
   "execution_count": 23,
   "metadata": {},
   "outputs": [
    {
     "name": "stdout",
     "output_type": "stream",
     "text": [
      "[1 1 0 1 1 0 1 1 0 0 1 1 0 0 0 0 0 0 0 0 1 0 0 0 0 1 1 0 0 0 0 1 1 1 1 1 1\n",
      " 1 1 0 0 1 1 1 0 0 0 0 0 0 0 0 0 1 1 1 0 0 0 1 0 0 1 0 0 1 0 1 1 0 0 0 1 1\n",
      " 0 1 0 0 0 1 0 0 0 1 0 0 1 0 1 0 1 0 1 0 0 0 1 0 1 1 1 0 0 1 1 0 0 1 1 1 1\n",
      " 0 1 0 1 1 0 0 1 0 0 1 0 0 0 0 1 0 1 0 1 0 0 0 1 0 0 1 0 1 0 0 0 0 0 0 0 1\n",
      " 0 0 0 0 1 0 0 1 0 1 1 1 0 1 0 0 0 1 0 0 1 1 0 0 1 0 1 0 0 0 0 0 1 0 0 0 1\n",
      " 1 0 1 1 0 1 1 1 0 1 0 1 0 0 1 1 0 1 0 0 0 1 0 0 1 0 1 1 1 1 1 1 0 0 1 0 1\n",
      " 0 1 0 1 0 1 0 1 0 1 0 1 1 1 1 0 0 0 0 1 0 0 0 1 1 1 0 1 0 1 1 0 0 0 1 1 1\n",
      " 1 1 0 0 0 0 1 1 1 1 0 0 0 0 0 0]\n"
     ]
    }
   ],
   "source": [
    "print(y_pred)"
   ]
  },
  {
   "cell_type": "code",
   "execution_count": 24,
   "metadata": {},
   "outputs": [],
   "source": [
    "from sklearn.metrics import classification_report, confusion_matrix"
   ]
  },
  {
   "cell_type": "code",
   "execution_count": 26,
   "metadata": {},
   "outputs": [
    {
     "name": "stdout",
     "output_type": "stream",
     "text": [
      "[[125  21]\n",
      " [ 30  99]]\n"
     ]
    }
   ],
   "source": [
    "print(confusion_matrix(Y_test,y_pred))"
   ]
  },
  {
   "cell_type": "code",
   "execution_count": 27,
   "metadata": {},
   "outputs": [
    {
     "name": "stdout",
     "output_type": "stream",
     "text": [
      "             precision    recall  f1-score   support\n",
      "\n",
      "          0       0.81      0.86      0.83       146\n",
      "          1       0.82      0.77      0.80       129\n",
      "\n",
      "avg / total       0.82      0.81      0.81       275\n",
      "\n"
     ]
    }
   ],
   "source": [
    "print(classification_report(Y_test,y_pred))"
   ]
  },
  {
   "cell_type": "code",
   "execution_count": 28,
   "metadata": {},
   "outputs": [],
   "source": [
    "from sklearn.svm import SVC"
   ]
  },
  {
   "cell_type": "code",
   "execution_count": 29,
   "metadata": {},
   "outputs": [],
   "source": [
    "svclassifier = SVC(kernel = 'linear')"
   ]
  },
  {
   "cell_type": "code",
   "execution_count": 30,
   "metadata": {},
   "outputs": [
    {
     "data": {
      "text/plain": [
       "SVC(C=1.0, cache_size=200, class_weight=None, coef0=0.0,\n",
       "  decision_function_shape='ovr', degree=3, gamma='auto', kernel='linear',\n",
       "  max_iter=-1, probability=False, random_state=None, shrinking=True,\n",
       "  tol=0.001, verbose=False)"
      ]
     },
     "execution_count": 30,
     "metadata": {},
     "output_type": "execute_result"
    }
   ],
   "source": [
    "svclassifier.fit(X_train,Y_train)"
   ]
  },
  {
   "cell_type": "code",
   "execution_count": 31,
   "metadata": {},
   "outputs": [],
   "source": [
    "y_pred = svclassifier.predict(X_test)"
   ]
  },
  {
   "cell_type": "code",
   "execution_count": 32,
   "metadata": {},
   "outputs": [
    {
     "name": "stdout",
     "output_type": "stream",
     "text": [
      "[1 1 0 1 1 0 1 1 0 0 1 0 0 0 1 0 1 0 0 0 1 0 0 0 0 0 0 0 0 0 0 1 1 0 1 1 1\n",
      " 1 1 1 1 1 0 1 0 0 1 0 0 0 0 1 0 1 1 1 0 0 1 1 0 0 1 1 0 1 1 1 1 0 0 0 1 1\n",
      " 1 1 0 0 0 0 0 0 0 1 0 0 1 0 1 0 1 1 0 0 0 0 1 0 1 0 1 0 1 1 1 1 0 1 1 1 1\n",
      " 0 1 0 1 1 0 0 1 0 0 1 0 0 0 0 1 1 1 1 1 0 0 0 1 0 0 0 0 1 1 0 0 0 0 1 0 1\n",
      " 0 0 0 0 1 0 0 1 0 1 1 1 0 1 0 0 0 1 0 0 1 1 0 0 1 0 1 0 0 1 1 0 1 0 0 0 1\n",
      " 1 0 1 1 0 1 1 0 0 1 1 1 1 1 0 0 0 1 0 0 0 0 0 0 1 1 1 1 1 1 1 1 0 0 1 0 1\n",
      " 1 1 0 1 1 0 0 1 0 1 0 1 1 1 0 0 1 0 1 0 0 0 0 1 1 1 0 1 0 0 1 1 0 0 1 1 1\n",
      " 1 1 0 0 0 0 1 1 1 1 0 0 1 0 0 0]\n"
     ]
    }
   ],
   "source": [
    "print(y_pred)"
   ]
  },
  {
   "cell_type": "code",
   "execution_count": 33,
   "metadata": {},
   "outputs": [],
   "source": [
    "from sklearn.metrics import classification_report, confusion_matrix"
   ]
  },
  {
   "cell_type": "code",
   "execution_count": 34,
   "metadata": {},
   "outputs": [
    {
     "name": "stdout",
     "output_type": "stream",
     "text": [
      "[[142   4]\n",
      " [  1 128]]\n"
     ]
    }
   ],
   "source": [
    "print(confusion_matrix(Y_test,y_pred))"
   ]
  },
  {
   "cell_type": "code",
   "execution_count": 35,
   "metadata": {},
   "outputs": [
    {
     "name": "stdout",
     "output_type": "stream",
     "text": [
      "             precision    recall  f1-score   support\n",
      "\n",
      "          0       0.99      0.97      0.98       146\n",
      "          1       0.97      0.99      0.98       129\n",
      "\n",
      "avg / total       0.98      0.98      0.98       275\n",
      "\n"
     ]
    }
   ],
   "source": [
    "print(classification_report(Y_test,y_pred))"
   ]
  },
  {
   "cell_type": "code",
   "execution_count": 36,
   "metadata": {},
   "outputs": [],
   "source": [
    "from sklearn.neighbors import KNeighborsClassifier"
   ]
  },
  {
   "cell_type": "code",
   "execution_count": 37,
   "metadata": {},
   "outputs": [],
   "source": [
    "model = KNeighborsClassifier(n_neighbors=3)"
   ]
  },
  {
   "cell_type": "code",
   "execution_count": 38,
   "metadata": {},
   "outputs": [
    {
     "data": {
      "text/plain": [
       "KNeighborsClassifier(algorithm='auto', leaf_size=30, metric='minkowski',\n",
       "           metric_params=None, n_jobs=1, n_neighbors=3, p=2,\n",
       "           weights='uniform')"
      ]
     },
     "execution_count": 38,
     "metadata": {},
     "output_type": "execute_result"
    }
   ],
   "source": [
    "model.fit(X_train,Y_train)"
   ]
  },
  {
   "cell_type": "code",
   "execution_count": 39,
   "metadata": {},
   "outputs": [],
   "source": [
    "y_pred = model.predict(X_test)"
   ]
  },
  {
   "cell_type": "code",
   "execution_count": 40,
   "metadata": {},
   "outputs": [
    {
     "name": "stdout",
     "output_type": "stream",
     "text": [
      "[1 1 0 1 1 0 1 1 0 0 1 0 0 0 1 0 1 0 0 0 1 0 0 0 0 0 0 0 0 0 0 1 1 0 1 1 1\n",
      " 1 1 1 1 0 0 0 0 0 1 0 0 0 0 1 0 1 1 1 0 0 1 1 0 0 1 1 0 1 1 1 1 0 0 0 1 1\n",
      " 1 1 0 0 0 0 0 0 0 1 0 0 1 0 1 0 0 1 0 0 0 0 1 0 1 0 1 0 1 1 1 1 0 1 1 1 1\n",
      " 0 1 0 1 1 0 0 1 0 0 1 0 0 0 0 1 1 1 1 1 0 0 0 1 0 0 0 0 1 1 0 0 0 0 1 0 1\n",
      " 0 0 0 0 1 0 0 1 0 1 1 1 0 1 0 0 0 1 0 0 1 1 0 0 1 0 1 0 0 1 1 0 1 0 0 0 1\n",
      " 1 0 1 1 0 1 1 0 0 1 1 1 1 1 0 0 0 1 0 0 0 0 0 0 1 1 1 1 1 1 1 1 0 0 1 0 1\n",
      " 1 1 0 0 1 0 0 1 0 1 0 1 1 1 0 0 1 0 1 0 0 0 0 1 1 1 0 1 0 0 1 1 0 0 1 1 1\n",
      " 1 1 0 1 0 0 1 1 1 1 0 0 1 0 0 0]\n"
     ]
    }
   ],
   "source": [
    "print(y_pred)"
   ]
  },
  {
   "cell_type": "code",
   "execution_count": 41,
   "metadata": {},
   "outputs": [
    {
     "name": "stdout",
     "output_type": "stream",
     "text": [
      "[[146   0]\n",
      " [  0 129]]\n"
     ]
    }
   ],
   "source": [
    "print(confusion_matrix(Y_test,y_pred))"
   ]
  },
  {
   "cell_type": "code",
   "execution_count": 42,
   "metadata": {},
   "outputs": [
    {
     "name": "stdout",
     "output_type": "stream",
     "text": [
      "             precision    recall  f1-score   support\n",
      "\n",
      "          0       1.00      1.00      1.00       146\n",
      "          1       1.00      1.00      1.00       129\n",
      "\n",
      "avg / total       1.00      1.00      1.00       275\n",
      "\n"
     ]
    }
   ],
   "source": [
    "print(classification_report(Y_test,y_pred))"
   ]
  },
  {
   "cell_type": "code",
   "execution_count": null,
   "metadata": {},
   "outputs": [],
   "source": []
  }
 ],
 "metadata": {
  "kernelspec": {
   "display_name": "Python 3",
   "language": "python",
   "name": "python3"
  },
  "language_info": {
   "codemirror_mode": {
    "name": "ipython",
    "version": 3
   },
   "file_extension": ".py",
   "mimetype": "text/x-python",
   "name": "python",
   "nbconvert_exporter": "python",
   "pygments_lexer": "ipython3",
   "version": "3.7.4"
  }
 },
 "nbformat": 4,
 "nbformat_minor": 2
}
